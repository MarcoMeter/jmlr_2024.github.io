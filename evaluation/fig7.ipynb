{
 "cells": [
  {
   "cell_type": "markdown",
   "metadata": {},
   "source": [
    "Imports"
   ]
  },
  {
   "cell_type": "code",
   "execution_count": 1,
   "metadata": {},
   "outputs": [],
   "source": [
    "import numpy as np\n",
    "import os\n",
    "from plotting import plot_sample_efficiency_curve, COLOR_MAPPING, LABEL_MAPPING, load_and_process_experiment_data, arange_frames"
   ]
  },
  {
   "cell_type": "markdown",
   "metadata": {},
   "source": [
    "Load data"
   ]
  },
  {
   "cell_type": "code",
   "execution_count": null,
   "metadata": {},
   "outputs": [],
   "source": [
    "envs = [\n",
    "    \"emm\",\n",
    "    \"emp\",\n",
    "    \"ess\"\n",
    "]\n",
    "\n",
    "run_ids = [\n",
    "    \"gru\",\n",
    "    \"trxl\",\n",
    "    \"gru_rec\",\n",
    "    \"trxl_rec\"\n",
    "]\n",
    "\n",
    "skip = 1\n",
    "\n",
    "# Loop over all possible paths and load data\n",
    "raw_data_dict = {}\n",
    "for env in envs:\n",
    "    raw_data_dict[env] = {}\n",
    "    for run_id in run_ids:\n",
    "        path = f\"./results/{env}/{run_id}/\"\n",
    "        if os.path.exists(path) and os.path.isdir(path):\n",
    "            data = load_and_process_experiment_data(path, \"reward\")\n",
    "            # Average over the episodes dimension\n",
    "            data = data.mean(axis=2)\n",
    "\n",
    "            multiplier = 1\n",
    "            if env == \"emm\":\n",
    "                multiplier = 10\n",
    "            elif env == \"emp\":\n",
    "                multiplier = 1\n",
    "            elif env == \"ess\":\n",
    "                multiplier = 4\n",
    "\n",
    "            raw_data_dict[env][run_id] = data[::skip] * multiplier\n",
    "        else:\n",
    "            continue\n"
   ]
  },
  {
   "cell_type": "markdown",
   "metadata": {},
   "source": [
    "Process and aggregate data\n",
    "\n",
    "(101, 5, 150)\n",
    "\n",
    "101 Checkpoints\n",
    "5 Runs\n",
    "150 Episodes"
   ]
  },
  {
   "cell_type": "code",
   "execution_count": 3,
   "metadata": {},
   "outputs": [],
   "source": [
    "# Aggregate data\n",
    "mean_dict = {}\n",
    "std_dict = {}\n",
    "min_dict = {}\n",
    "max_dict = {}\n",
    "for env in raw_data_dict:\n",
    "    mean_dict[env] = {}\n",
    "    std_dict[env] = {}\n",
    "    min_dict[env] = {}\n",
    "    max_dict[env] = {}\n",
    "    for run_id in raw_data_dict[env]:\n",
    "        mean_dict[env][run_id] = raw_data_dict[env][run_id].mean(axis=1)\n",
    "        std_dict[env][run_id] = raw_data_dict[env][run_id].std(axis=1)\n",
    "        min_dict[env][run_id] = raw_data_dict[env][run_id].min(axis=1)\n",
    "        max_dict[env][run_id] = raw_data_dict[env][run_id].max(axis=1) \n",
    "\n",
    "# Setup frames\n",
    "frames = arange_frames(mean_dict[\"emm\"][\"gru\"].shape[0], skip)"
   ]
  },
  {
   "cell_type": "markdown",
   "metadata": {},
   "source": [
    "Plot mean and std across runs\n",
    "\n",
    "EMM"
   ]
  },
  {
   "cell_type": "code",
   "execution_count": null,
   "metadata": {},
   "outputs": [],
   "source": [
    "plot_sample_efficiency_curve(frames,\n",
    "                             mean_dict[\"emm\"],\n",
    "                             std_dict[\"emm\"],\n",
    "                             colors=COLOR_MAPPING,\n",
    "                             label_mapping=LABEL_MAPPING,\n",
    "                             figsize=(16.5,3.5),\n",
    "                             xticks=list(range(0, 820, 100)),\n",
    "                             xlabel=\"Steps (in millions)\",\n",
    "                             ylabel=\"Commands Executed\",\n",
    "                             marker=\"\")"
   ]
  },
  {
   "cell_type": "markdown",
   "metadata": {},
   "source": [
    "Plot mean and std across runs\n",
    "\n",
    "EMP"
   ]
  },
  {
   "cell_type": "code",
   "execution_count": null,
   "metadata": {},
   "outputs": [],
   "source": [
    "plot_sample_efficiency_curve(frames,\n",
    "                             mean_dict[\"emp\"],\n",
    "                             std_dict[\"emp\"],\n",
    "                             colors=COLOR_MAPPING,\n",
    "                             label_mapping=LABEL_MAPPING,\n",
    "                             figsize=(16.5,3.5),\n",
    "                             xticks=list(range(0, 820, 100)),\n",
    "                             xlabel=\"Steps (in millions)\",\n",
    "                             ylabel=\"Undiscounted Return\",\n",
    "                             marker=\"\")"
   ]
  },
  {
   "cell_type": "markdown",
   "metadata": {},
   "source": [
    "Plot mean and std across runs\n",
    "\n",
    "ESS"
   ]
  },
  {
   "cell_type": "code",
   "execution_count": null,
   "metadata": {},
   "outputs": [],
   "source": [
    "plot_sample_efficiency_curve(frames,\n",
    "                             mean_dict[\"ess\"],\n",
    "                             std_dict[\"ess\"],\n",
    "                             colors=COLOR_MAPPING,\n",
    "                             label_mapping=LABEL_MAPPING,\n",
    "                             figsize=(16.5,3.5),\n",
    "                             xticks=list(range(0, 820, 100)),\n",
    "                             xlabel=\"Steps (in millions)\",\n",
    "                             ylabel=\"Coins Collected\",\n",
    "                             marker=\"\")"
   ]
  },
  {
   "cell_type": "markdown",
   "metadata": {},
   "source": [
    "Plot individual mean\n",
    "\n",
    "EMM"
   ]
  },
  {
   "cell_type": "code",
   "execution_count": null,
   "metadata": {},
   "outputs": [],
   "source": [
    "plot_sample_efficiency_curve(frames,\n",
    "                             raw_data_dict[\"emm\"],\n",
    "                             colors=COLOR_MAPPING,\n",
    "                             label_mapping=LABEL_MAPPING,\n",
    "                             figsize=(16.5,10),\n",
    "                             xticks=list(range(0, 820, 100)),\n",
    "                             yticks=list(range(0, 131, 10)),\n",
    "                             xlabel=\"Steps (in millions)\",\n",
    "                             ylabel=\"Num. Commands\",\n",
    "                             marker=\"\",\n",
    "                             out=\"emm_individuals.pdf\")"
   ]
  },
  {
   "cell_type": "markdown",
   "metadata": {},
   "source": [
    "Plot individual mean\n",
    "\n",
    "EMP"
   ]
  },
  {
   "cell_type": "code",
   "execution_count": null,
   "metadata": {},
   "outputs": [],
   "source": [
    "emp_dict = {}\n",
    "for run_id in raw_data_dict[\"emp\"]:\n",
    "    emp_dict[run_id] = raw_data_dict[\"emp\"][run_id] * 10\n",
    "\n",
    "plot_sample_efficiency_curve(frames,\n",
    "                             emp_dict,\n",
    "                             colors=COLOR_MAPPING,\n",
    "                             label_mapping=LABEL_MAPPING,\n",
    "                             figsize=(16.5,3.5),\n",
    "                             xticks=list(range(0, 820, 100)),\n",
    "                             xlabel=\"Steps (in millions)\",\n",
    "                             ylabel=\"Tiles Visited\",\n",
    "                             marker=\"\",\n",
    "                             out=\"emp_individuals.pdf\")"
   ]
  },
  {
   "cell_type": "markdown",
   "metadata": {},
   "source": [
    "Plot individual mean\n",
    "\n",
    "ESS"
   ]
  },
  {
   "cell_type": "code",
   "execution_count": null,
   "metadata": {},
   "outputs": [],
   "source": [
    "plot_sample_efficiency_curve(frames,\n",
    "                             raw_data_dict[\"ess\"],\n",
    "                             colors=COLOR_MAPPING,\n",
    "                             label_mapping=LABEL_MAPPING,\n",
    "                             figsize=(16.5,3.5),\n",
    "                             xticks=list(range(0, 820, 100)),\n",
    "                             xlabel=\"Steps (in millions)\",\n",
    "                             ylabel=\"Num. Coins\",\n",
    "                             marker=\"\",\n",
    "                             out=\"ess_individuals.pdf\")"
   ]
  },
  {
   "cell_type": "markdown",
   "metadata": {},
   "source": [
    "# Aggregation Plot"
   ]
  },
  {
   "cell_type": "code",
   "execution_count": 10,
   "metadata": {},
   "outputs": [],
   "source": [
    "# Select data\n",
    "selected_data = {}\n",
    "\n",
    "selected_data[\"emm\"] = {}\n",
    "selected_data[\"emm\"][\"gru\"] = raw_data_dict[\"emm\"][\"gru\"].copy()\n",
    "selected_data[\"emm\"][\"trxl\"] = raw_data_dict[\"emm\"][\"trxl\"].copy()\n",
    "\n",
    "selected_data[\"emp\"] = {}\n",
    "selected_data[\"emp\"][\"gru\"] = raw_data_dict[\"emp\"][\"gru\"].copy()\n",
    "selected_data[\"emp\"][\"trxl\"] = raw_data_dict[\"emp\"][\"trxl\"].copy()\n",
    "\n",
    "selected_data[\"ess\"] = {}\n",
    "selected_data[\"ess\"][\"gru\"] = raw_data_dict[\"ess\"][\"gru_rec\"].copy()\n",
    "selected_data[\"ess\"][\"trxl\"] = raw_data_dict[\"ess\"][\"trxl_rec\"].copy()\n"
   ]
  },
  {
   "cell_type": "code",
   "execution_count": 11,
   "metadata": {},
   "outputs": [],
   "source": [
    "run_ids = [\"gru\", \"trxl\"]\n",
    "normalizer = \"trxl\"\n",
    "\n",
    "agg_mean_dict = {}\n",
    "agg_std_dict = {}\n",
    "max_mean_return = {}\n",
    "num_checkpoints = selected_data[\"emm\"][\"gru\"].shape[0]\n",
    "\n",
    "# Initialize structures to accumulate data across environments\n",
    "accumulated_data = {run_id: [] for run_id in run_ids}\n",
    "for env in envs:\n",
    "    max_mean_return[env] = {}\n",
    "    for run_id in run_ids:\n",
    "        if env == \"emm\":\n",
    "            max_mean_return[env][run_id] = round(selected_data[env][run_id].mean(axis=(1)).max(), 2) \n",
    "        else:\n",
    "            max_mean_return[env][run_id] = round(selected_data[env][run_id].mean(axis=(1)).max(), 2)\n",
    "\n",
    "for env in envs:\n",
    "    for run_id in run_ids:\n",
    "        data = selected_data[env][run_id]\n",
    "        data = data / max_mean_return[env][normalizer]\n",
    "        accumulated_data[run_id].append(data)\n",
    "\n",
    "for run_id in run_ids:\n",
    "    stacked_data = np.hstack(accumulated_data[run_id])\n",
    "    agg_mean_dict[run_id] = stacked_data.mean(axis=1)\n",
    "    agg_std_dict[run_id] = stacked_data.std(axis=1)"
   ]
  },
  {
   "cell_type": "code",
   "execution_count": null,
   "metadata": {},
   "outputs": [],
   "source": [
    "plot_sample_efficiency_curve(frames,\n",
    "                             agg_mean_dict,\n",
    "                             agg_std_dict,\n",
    "                             algorithms=[\"gru\", \"trxl\"],\n",
    "                             colors=COLOR_MAPPING,\n",
    "                             label_mapping=LABEL_MAPPING,\n",
    "                             figsize=(16.5,3.5),\n",
    "                             xticks=list(range(0, 820, 100)),\n",
    "                             yticks=list([0, 1, 2, 3, 4, 5]),\n",
    "                             xlabel=\"Steps (in millions)\",\n",
    "                             ylabel=\"Noramlized Score\",\n",
    "                             marker=\"\",\n",
    "                             out=\"aggregation_endless.pdf\")"
   ]
  }
 ],
 "metadata": {
  "kernelspec": {
   "display_name": "nero2",
   "language": "python",
   "name": "python3"
  },
  "language_info": {
   "codemirror_mode": {
    "name": "ipython",
    "version": 3
   },
   "file_extension": ".py",
   "mimetype": "text/x-python",
   "name": "python",
   "nbconvert_exporter": "python",
   "pygments_lexer": "ipython3",
   "version": "3.9.16"
  }
 },
 "nbformat": 4,
 "nbformat_minor": 2
}
