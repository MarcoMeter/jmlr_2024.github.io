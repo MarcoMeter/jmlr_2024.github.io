{
 "cells": [
  {
   "cell_type": "markdown",
   "metadata": {},
   "source": [
    "Imports"
   ]
  },
  {
   "cell_type": "code",
   "execution_count": 1,
   "metadata": {},
   "outputs": [],
   "source": [
    "import numpy as np\n",
    "import os\n",
    "from plotting import plot_sample_efficiency_curve, COLOR_MAPPING, LABEL_MAPPING, load_and_process_experiment_data, arange_frames"
   ]
  },
  {
   "cell_type": "markdown",
   "metadata": {},
   "source": [
    "Load data"
   ]
  },
  {
   "cell_type": "code",
   "execution_count": null,
   "metadata": {},
   "outputs": [],
   "source": [
    "# Determine tiles visited\n",
    "path = f\"./results/mp_off_dense/trxl_rec/\"\n",
    "original_shape = (51, 5, 50, 3)\n",
    "rewards = load_and_process_experiment_data(path, \"reward\").reshape(original_shape)\n",
    "successes = load_and_process_experiment_data(path, \"success\").reshape(original_shape)\n",
    "seeds = load_and_process_experiment_data(path, \"seed\").reshape(original_shape)\n",
    "successes_agg = successes[:, :, :, :].max(axis=(0, 1, 3))\n",
    "tiles_visited = rewards[:, :, :, :].max(axis=(0, 1, 3)) - 0.9\n",
    "print(f\"Tiles visited: {tiles_visited * 10}\")"
   ]
  },
  {
   "cell_type": "code",
   "execution_count": null,
   "metadata": {},
   "outputs": [],
   "source": [
    "envs = [\n",
    "    \"mm10\",\n",
    "    \"mp_off_dense\",\n",
    "    \"ss\"\n",
    "]\n",
    "\n",
    "run_ids = [\n",
    "    \"gru\",\n",
    "    \"trxl\",\n",
    "    \"gru_rec\",\n",
    "    \"trxl_rec\",\n",
    "    \"gru_25\",\n",
    "    \"trxl_25\",\n",
    "    \"gru_rec_25\",\n",
    "    \"trxl_rec_25\",\n",
    "    \"lstm\",\n",
    "    \"gtrxl_b0\",\n",
    "    \"gtrxl_b2\",\n",
    "    \"gtrxl_b0_rec\",\n",
    "    \"gtrxl_b2_rec\"\n",
    "]\n",
    "\n",
    "skip = 1\n",
    "\n",
    "# Loop over all possible paths and load data\n",
    "raw_data_dict = {}\n",
    "for env in envs:\n",
    "    raw_data_dict[env] = {}\n",
    "    for run_id in run_ids:\n",
    "        path = f\"./results/{env}/{run_id}/\"\n",
    "        if os.path.exists(path) and os.path.isdir(path):\n",
    "            data = load_and_process_experiment_data(path, \"reward\")\n",
    "\n",
    "            if \"dense\" in env:\n",
    "                success_data = load_and_process_experiment_data(path, \"success\")\n",
    "                original_shape = (success_data.shape[0], 5, 50, 3)\n",
    "                target_shape = (success_data.shape[0], 5, 150)\n",
    "                success_data = success_data.reshape(original_shape)\n",
    "                success_data = (success_data * 0.9)\n",
    "                reward_data = data.reshape(original_shape)\n",
    "                reward_data = reward_data - success_data\n",
    "                data = reward_data / tiles_visited[np.newaxis, np.newaxis, :, np.newaxis]\n",
    "                data = data.reshape(target_shape)\n",
    "\n",
    "            if \"ss\" in env:\n",
    "                data[data == 0.25] = 0.5\n",
    "                data[data == 1.25] = 1.0\n",
    "\n",
    "            # Average over the episodes dimension\n",
    "            data = data.mean(axis=2)\n",
    "\n",
    "            multiplier = 1\n",
    "            # if \"mm\" in env:\n",
    "            #     multiplier = 10\n",
    "\n",
    "            raw_data_dict[env][run_id] = data[::skip] * multiplier\n",
    "        else:\n",
    "            continue\n",
    "\n"
   ]
  },
  {
   "cell_type": "markdown",
   "metadata": {},
   "source": [
    "Process and aggregate data\n",
    "\n",
    "(101, 5, 150)\n",
    "\n",
    "101 Checkpoints\n",
    "5 Runs\n",
    "150 Episodes"
   ]
  },
  {
   "cell_type": "code",
   "execution_count": 4,
   "metadata": {},
   "outputs": [],
   "source": [
    "# Aggregate data\n",
    "mean_dict = {}\n",
    "std_dict = {}\n",
    "min_dict = {}\n",
    "max_dict = {}\n",
    "for env in raw_data_dict:\n",
    "    mean_dict[env] = {}\n",
    "    std_dict[env] = {}\n",
    "    min_dict[env] = {}\n",
    "    max_dict[env] = {}\n",
    "    for run_id in raw_data_dict[env]:\n",
    "        mean_dict[env][run_id] = raw_data_dict[env][run_id].mean(axis=1)\n",
    "        std_dict[env][run_id] = raw_data_dict[env][run_id].std(axis=1)\n",
    "        min_dict[env][run_id] = raw_data_dict[env][run_id].min(axis=1)\n",
    "        max_dict[env][run_id] = raw_data_dict[env][run_id].max(axis=1) "
   ]
  },
  {
   "cell_type": "markdown",
   "metadata": {},
   "source": [
    "Plot mean and std across runs\n",
    "\n",
    "mm10"
   ]
  },
  {
   "cell_type": "code",
   "execution_count": null,
   "metadata": {},
   "outputs": [],
   "source": [
    "frames = arange_frames(mean_dict[\"mm10\"][\"gru\"].shape[0])\n",
    "plot_sample_efficiency_curve(frames,\n",
    "                             mean_dict[\"mm10\"],\n",
    "                             std_dict[\"mm10\"],\n",
    "                             colors=COLOR_MAPPING,\n",
    "                             label_mapping=LABEL_MAPPING,\n",
    "                             figsize=(12,7.5),\n",
    "                             xlabel=\"Steps (in millions)\",\n",
    "                             ylabel=\"Task Progress\",\n",
    "                             marker=\"\",\n",
    "                             labelsize=32,\n",
    "                             ticklabelsize=32,\n",
    "                             spinewidth=2,\n",
    "                             out=\"fig11_mm10.pdf\",)"
   ]
  },
  {
   "cell_type": "markdown",
   "metadata": {},
   "source": [
    "Plot mean and std across runs\n",
    "\n",
    "mp_off_dense"
   ]
  },
  {
   "cell_type": "code",
   "execution_count": null,
   "metadata": {},
   "outputs": [],
   "source": [
    "frames = arange_frames(mean_dict[\"mp_off_dense\"][\"gru\"].shape[0])\n",
    "plot_sample_efficiency_curve(frames,\n",
    "                             mean_dict[\"mp_off_dense\"],\n",
    "                             std_dict[\"mp_off_dense\"],\n",
    "                             colors=COLOR_MAPPING,\n",
    "                             label_mapping=LABEL_MAPPING,\n",
    "                             figsize=(12,7.5),\n",
    "                             xlabel=\"Steps (in millions)\",\n",
    "                             ylabel=\"Task Progress\",\n",
    "                             marker=\"\",\n",
    "                             labelsize=32,\n",
    "                             ticklabelsize=32,\n",
    "                             spinewidth=2,\n",
    "                             out=\"fig11_mp_off_dense.pdf\",)"
   ]
  },
  {
   "cell_type": "markdown",
   "metadata": {},
   "source": [
    "Plot mean and std across runs\n",
    "\n",
    "ss"
   ]
  },
  {
   "cell_type": "code",
   "execution_count": null,
   "metadata": {},
   "outputs": [],
   "source": [
    "frames = arange_frames(mean_dict[\"ss\"][\"gru_rec_25\"].shape[0])\n",
    "algos = [\"gru_rec_25\", \"trxl_rec_25\", \"gru_25\", \"trxl_25\", \"lstm\", \"gtrxl_b0_rec\", \"gtrxl_b2_rec\"]\n",
    "plot_sample_efficiency_curve(frames,\n",
    "                             mean_dict[\"ss\"],\n",
    "                             std_dict[\"ss\"],\n",
    "                             algorithms=algos,\n",
    "                             colors=COLOR_MAPPING,\n",
    "                             label_mapping=LABEL_MAPPING,\n",
    "                             figsize=(12,7.5),\n",
    "                             xlabel=\"Steps (in millions)\",\n",
    "                             ylabel=\"Task Progress\",\n",
    "                             marker=\"\",\n",
    "                             labelsize=32,\n",
    "                             ticklabelsize=32,\n",
    "                             spinewidth=2,\n",
    "                             out=\"fig11_ss.pdf\")"
   ]
  },
  {
   "cell_type": "markdown",
   "metadata": {},
   "source": [
    "Wall-time\n",
    "\n",
    "mp_off_dense"
   ]
  },
  {
   "cell_type": "code",
   "execution_count": 8,
   "metadata": {},
   "outputs": [],
   "source": [
    "# GRU wall-time\n",
    "num_checkpoints = 51\n",
    "checkpoint_interval = 500\n",
    "frames = {}\n",
    "frames[\"gru\"] = []\n",
    "for i in range(num_checkpoints):\n",
    "    frames[\"gru\"].append(5.19 * checkpoint_interval * i / 3600)\n",
    "frames[\"lstm\"] = []\n",
    "for i in range(num_checkpoints):\n",
    "    frames[\"lstm\"].append(5.09 * checkpoint_interval * i / 3600)\n",
    "frames[\"trxl\"] = []\n",
    "for i in range(num_checkpoints):\n",
    "    frames[\"trxl\"].append(7.39 * checkpoint_interval * i / 3600)\n",
    "frames[\"gtrxl_b0\"] = []\n",
    "for i in range(num_checkpoints):\n",
    "    frames[\"gtrxl_b0\"].append(6.68 * checkpoint_interval * i / 3600)"
   ]
  },
  {
   "cell_type": "code",
   "execution_count": null,
   "metadata": {},
   "outputs": [],
   "source": [
    "plot_sample_efficiency_curve(frames,\n",
    "                             mean_dict[\"mp_off_dense\"],\n",
    "                             std_dict[\"mp_off_dense\"],\n",
    "                             algorithms=frames.keys(),\n",
    "                             colors=COLOR_MAPPING,\n",
    "                             label_mapping=LABEL_MAPPING,\n",
    "                             figsize=(18,7.5),\n",
    "                             xlabel=\"Hours\",\n",
    "                             ylabel=\"Task Progress\",\n",
    "                             marker=\"\",\n",
    "                             labelsize=32,\n",
    "                             ticklabelsize=32,\n",
    "                             spinewidth=2,\n",
    "                             out=\"fig12_mp_off_dense.pdf\",)"
   ]
  }
 ],
 "metadata": {
  "kernelspec": {
   "display_name": "nero2",
   "language": "python",
   "name": "python3"
  },
  "language_info": {
   "codemirror_mode": {
    "name": "ipython",
    "version": 3
   },
   "file_extension": ".py",
   "mimetype": "text/x-python",
   "name": "python",
   "nbconvert_exporter": "python",
   "pygments_lexer": "ipython3",
   "version": "3.9.16"
  }
 },
 "nbformat": 4,
 "nbformat_minor": 2
}
