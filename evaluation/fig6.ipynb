{
 "cells": [
  {
   "cell_type": "markdown",
   "metadata": {},
   "source": [
    "Imports"
   ]
  },
  {
   "cell_type": "code",
   "execution_count": 1,
   "metadata": {},
   "outputs": [],
   "source": [
    "import numpy as np\n",
    "import os\n",
    "from plotting import plot_sample_efficiency_curve, COLOR_MAPPING, LABEL_MAPPING, load_and_process_experiment_data, arange_frames"
   ]
  },
  {
   "cell_type": "markdown",
   "metadata": {},
   "source": [
    "Load data"
   ]
  },
  {
   "cell_type": "code",
   "execution_count": null,
   "metadata": {},
   "outputs": [],
   "source": [
    "# Determine tiles visited\n",
    "path = f\"./results/mp_off_dense/trxl_rec/\"\n",
    "original_shape = (51, 5, 50, 3)\n",
    "rewards = load_and_process_experiment_data(path, \"reward\").reshape(original_shape)\n",
    "successes = load_and_process_experiment_data(path, \"success\").reshape(original_shape)\n",
    "seeds = load_and_process_experiment_data(path, \"seed\").reshape(original_shape)\n",
    "successes_agg = successes[:, :, :, :].max(axis=(0, 1, 3))\n",
    "tiles_visited = rewards[:, :, :, :].max(axis=(0, 1, 3)) - 0.9\n",
    "print(f\"Tiles visited: {tiles_visited * 10}\")"
   ]
  },
  {
   "cell_type": "code",
   "execution_count": null,
   "metadata": {},
   "outputs": [],
   "source": [
    "envs = [\n",
    "    \"mm_act_grid\",\n",
    "    \"mm_grid\",\n",
    "    \"mm10\",\n",
    "    \"mp_grid_on\",\n",
    "    \"mp_grid_off\",\n",
    "    \"mp_off_dense\",\n",
    "    \"ss\"\n",
    "]\n",
    "\n",
    "run_ids = [\n",
    "    \"gru\",\n",
    "    \"trxl\",\n",
    "    \"gru_rec\",\n",
    "    \"trxl_rec\",\n",
    "    \"gru_25\",\n",
    "    \"trxl_25\",\n",
    "    \"gru_rec_25\",\n",
    "    \"trxl_rec_25\",\n",
    "]\n",
    "\n",
    "skip = 1\n",
    "\n",
    "# Loop over all possible paths and load data\n",
    "raw_data_dict = {}\n",
    "for env in envs:\n",
    "    raw_data_dict[env] = {}\n",
    "    for run_id in run_ids:\n",
    "        path = f\"./results/{env}/{run_id}/\"\n",
    "        if os.path.exists(path) and os.path.isdir(path):\n",
    "            data = load_and_process_experiment_data(path, \"reward\")\n",
    "\n",
    "            if \"dense\" in env:\n",
    "                success_data = load_and_process_experiment_data(path, \"success\")\n",
    "                original_shape = (success_data.shape[0], 5, 50, 3)\n",
    "                target_shape = (success_data.shape[0], 5, 150)\n",
    "                success_data = success_data.reshape(original_shape)\n",
    "                success_data = (success_data * 0.9)\n",
    "                reward_data = data.reshape(original_shape)\n",
    "                reward_data = reward_data - success_data\n",
    "                data = reward_data / tiles_visited[np.newaxis, np.newaxis, :, np.newaxis]\n",
    "                data = data.reshape(target_shape)\n",
    "\n",
    "            if \"ss\" in env:\n",
    "                data[data == 0.25] = 0.5\n",
    "                data[data == 1.25] = 1.0\n",
    "\n",
    "            # Average over the episodes dimension\n",
    "            data = data.mean(axis=2)\n",
    "\n",
    "            multiplier = 1\n",
    "            # if \"mm\" in env:\n",
    "            #     multiplier = 10\n",
    "\n",
    "            raw_data_dict[env][run_id] = data[::skip] * multiplier\n",
    "        else:\n",
    "            continue\n"
   ]
  },
  {
   "cell_type": "markdown",
   "metadata": {},
   "source": [
    "Process and aggregate data\n",
    "\n",
    "(101, 5, 150)\n",
    "\n",
    "101 Checkpoints\n",
    "5 Runs\n",
    "150 Episodes"
   ]
  },
  {
   "cell_type": "code",
   "execution_count": 4,
   "metadata": {},
   "outputs": [],
   "source": [
    "# Aggregate data\n",
    "mean_dict = {}\n",
    "std_dict = {}\n",
    "min_dict = {}\n",
    "max_dict = {}\n",
    "for env in raw_data_dict:\n",
    "    mean_dict[env] = {}\n",
    "    std_dict[env] = {}\n",
    "    min_dict[env] = {}\n",
    "    max_dict[env] = {}\n",
    "    for run_id in raw_data_dict[env]:\n",
    "        mean_dict[env][run_id] = raw_data_dict[env][run_id].mean(axis=1)\n",
    "        std_dict[env][run_id] = raw_data_dict[env][run_id].std(axis=1)\n",
    "        min_dict[env][run_id] = raw_data_dict[env][run_id].min(axis=1)\n",
    "        max_dict[env][run_id] = raw_data_dict[env][run_id].max(axis=1) "
   ]
  },
  {
   "cell_type": "markdown",
   "metadata": {},
   "source": [
    "Plot mean and std across runs\n",
    "\n",
    "mm_act_grid"
   ]
  },
  {
   "cell_type": "code",
   "execution_count": null,
   "metadata": {},
   "outputs": [],
   "source": [
    "frames = arange_frames(mean_dict[\"mm_act_grid\"][\"gru\"].shape[0])\n",
    "plot_sample_efficiency_curve(frames,\n",
    "                             mean_dict[\"mm_act_grid\"],\n",
    "                             std_dict[\"mm_act_grid\"],\n",
    "                             colors=COLOR_MAPPING,\n",
    "                             label_mapping=LABEL_MAPPING,\n",
    "                             figsize=(8,7.5),\n",
    "                            #  xticks=list(range(0, 820, 100)),\n",
    "                             xlabel=\"Steps (in millions)\",\n",
    "                             ylabel=\"Commands Executed\",\n",
    "                             marker=\"\")"
   ]
  },
  {
   "cell_type": "markdown",
   "metadata": {},
   "source": [
    "Plot mean and std across runs\n",
    "\n",
    "mm_grid"
   ]
  },
  {
   "cell_type": "code",
   "execution_count": null,
   "metadata": {},
   "outputs": [],
   "source": [
    "frames = arange_frames(mean_dict[\"mm_grid\"][\"gru\"].shape[0])\n",
    "plot_sample_efficiency_curve(frames,\n",
    "                             mean_dict[\"mm_grid\"],\n",
    "                             std_dict[\"mm_grid\"],\n",
    "                             colors=COLOR_MAPPING,\n",
    "                             label_mapping=LABEL_MAPPING,\n",
    "                             figsize=(8,7.5),\n",
    "                            #  xticks=list(range(0, 820, 100)),\n",
    "                             xlabel=\"Steps (in millions)\",\n",
    "                             ylabel=\"Commands Executed\",\n",
    "                             marker=\"\")"
   ]
  },
  {
   "cell_type": "markdown",
   "metadata": {},
   "source": [
    "Plot mean and std across runs\n",
    "\n",
    "mm10"
   ]
  },
  {
   "cell_type": "code",
   "execution_count": null,
   "metadata": {},
   "outputs": [],
   "source": [
    "frames = arange_frames(mean_dict[\"mm10\"][\"gru\"].shape[0])\n",
    "plot_sample_efficiency_curve(frames,\n",
    "                             mean_dict[\"mm10\"],\n",
    "                             std_dict[\"mm10\"],\n",
    "                             colors=COLOR_MAPPING,\n",
    "                             label_mapping=LABEL_MAPPING,\n",
    "                             figsize=(8,7.5),\n",
    "                            #  xticks=list(range(0, 820, 100)),\n",
    "                             xlabel=\"Steps (in millions)\",\n",
    "                             ylabel=\"Commands Executed\",\n",
    "                             marker=\"\")"
   ]
  },
  {
   "cell_type": "markdown",
   "metadata": {},
   "source": [
    "Plot mean and std across runs\n",
    "\n",
    "mp_grid_on"
   ]
  },
  {
   "cell_type": "code",
   "execution_count": null,
   "metadata": {},
   "outputs": [],
   "source": [
    "frames = arange_frames(mean_dict[\"mp_grid_on\"][\"gru\"].shape[0])\n",
    "plot_sample_efficiency_curve(frames,\n",
    "                             mean_dict[\"mp_grid_on\"],\n",
    "                             std_dict[\"mp_grid_on\"],\n",
    "                             colors=COLOR_MAPPING,\n",
    "                             label_mapping=LABEL_MAPPING,\n",
    "                             figsize=(8,7.5),\n",
    "                            #  xticks=list(range(0, 820, 100)),\n",
    "                             xlabel=\"Steps (in millions)\",\n",
    "                             ylabel=\"Success Rate\",\n",
    "                             marker=\"\")"
   ]
  },
  {
   "cell_type": "markdown",
   "metadata": {},
   "source": [
    "Plot mean and std across runs\n",
    "\n",
    "mp_grid_off"
   ]
  },
  {
   "cell_type": "code",
   "execution_count": null,
   "metadata": {},
   "outputs": [],
   "source": [
    "frames = arange_frames(mean_dict[\"mp_grid_off\"][\"gru\"].shape[0])\n",
    "plot_sample_efficiency_curve(frames,\n",
    "                             mean_dict[\"mp_grid_off\"],\n",
    "                             std_dict[\"mp_grid_off\"],\n",
    "                             colors=COLOR_MAPPING,\n",
    "                             label_mapping=LABEL_MAPPING,\n",
    "                             figsize=(8,7.5),\n",
    "                            #  xticks=list(range(0, 820, 100)),\n",
    "                             xlabel=\"Steps (in millions)\",\n",
    "                             ylabel=\"Success Rate\",\n",
    "                             marker=\"\")"
   ]
  },
  {
   "cell_type": "markdown",
   "metadata": {},
   "source": [
    "Plot mean and std across runs\n",
    "\n",
    "mp_off_dense"
   ]
  },
  {
   "cell_type": "code",
   "execution_count": null,
   "metadata": {},
   "outputs": [],
   "source": [
    "frames = arange_frames(mean_dict[\"mp_off_dense\"][\"gru\"].shape[0])\n",
    "plot_sample_efficiency_curve(frames,\n",
    "                             mean_dict[\"mp_off_dense\"],\n",
    "                             std_dict[\"mp_off_dense\"],\n",
    "                             colors=COLOR_MAPPING,\n",
    "                             label_mapping=LABEL_MAPPING,\n",
    "                             figsize=(8,7.5),\n",
    "                            #  xticks=list(range(0, 820, 100)),\n",
    "                             xlabel=\"Steps (in millions)\",\n",
    "                             ylabel=\"Path Progress\",\n",
    "                             marker=\"\")"
   ]
  },
  {
   "cell_type": "markdown",
   "metadata": {},
   "source": [
    "Plot mean and std across runs\n",
    "\n",
    "ss"
   ]
  },
  {
   "cell_type": "code",
   "execution_count": null,
   "metadata": {},
   "outputs": [],
   "source": [
    "frames = arange_frames(mean_dict[\"ss\"][\"gru_rec_25\"].shape[0])\n",
    "plot_sample_efficiency_curve(frames,\n",
    "                             mean_dict[\"ss\"],\n",
    "                             std_dict[\"ss\"],\n",
    "                             algorithms=[\"gru_rec_25\", \"trxl_rec_25\", \"gru_25\", \"trxl_25\"],\n",
    "                             colors=COLOR_MAPPING,\n",
    "                             label_mapping=LABEL_MAPPING,\n",
    "                             figsize=(8,7.5),\n",
    "                            #  xticks=list(range(0, 820, 100)),\n",
    "                             xlabel=\"Steps (in millions)\",\n",
    "                             ylabel=\"Task Progress\",\n",
    "                             marker=\"\")"
   ]
  },
  {
   "cell_type": "markdown",
   "metadata": {},
   "source": [
    "Plot individual mean\n",
    "\n",
    "mm_act_grid"
   ]
  },
  {
   "cell_type": "code",
   "execution_count": null,
   "metadata": {},
   "outputs": [],
   "source": [
    "frames = arange_frames(mean_dict[\"mm_act_grid\"][\"gru\"].shape[0])\n",
    "plot_sample_efficiency_curve(frames,\n",
    "                             raw_data_dict[\"mm_act_grid\"],\n",
    "                             colors=COLOR_MAPPING,\n",
    "                             label_mapping=LABEL_MAPPING,\n",
    "                             figsize=(8,7.5),\n",
    "                            #  xticks=list(range(0, 820, 100)),\n",
    "                             xlabel=\"Steps (in millions)\",\n",
    "                             ylabel=\"Commands Executed\",\n",
    "                             marker=\"\",\n",
    "                             out=\"mm_individuals.pdf\")"
   ]
  },
  {
   "cell_type": "markdown",
   "metadata": {},
   "source": [
    "Plot individual mean\n",
    "\n",
    "mm_grid"
   ]
  },
  {
   "cell_type": "code",
   "execution_count": null,
   "metadata": {},
   "outputs": [],
   "source": [
    "frames = arange_frames(mean_dict[\"mm_grid\"][\"gru\"].shape[0])\n",
    "plot_sample_efficiency_curve(frames,\n",
    "                             raw_data_dict[\"mm_grid\"],\n",
    "                             colors=COLOR_MAPPING,\n",
    "                             label_mapping=LABEL_MAPPING,\n",
    "                             figsize=(8,7.5),\n",
    "                            #  xticks=list(range(0, 820, 100)),\n",
    "                             xlabel=\"Steps (in millions)\",\n",
    "                             ylabel=\"Commands Executed\",\n",
    "                             marker=\"\")"
   ]
  },
  {
   "cell_type": "markdown",
   "metadata": {},
   "source": [
    "Plot individual mean\n",
    "\n",
    "mm10"
   ]
  },
  {
   "cell_type": "code",
   "execution_count": null,
   "metadata": {},
   "outputs": [],
   "source": [
    "frames = arange_frames(mean_dict[\"mm10\"][\"gru\"].shape[0])\n",
    "plot_sample_efficiency_curve(frames,\n",
    "                             raw_data_dict[\"mm10\"],\n",
    "                             colors=COLOR_MAPPING,\n",
    "                             label_mapping=LABEL_MAPPING,\n",
    "                             figsize=(16.5,3.5),\n",
    "                             xticks=list(range(0, 501, 50)),\n",
    "                             yticks=list([0.0, 0.25, 0.5, 0.75, 1.0]),\n",
    "                             xlabel=\"Steps (in millions)\",\n",
    "                             ylabel=\"Task Progress\",\n",
    "                             marker=\"\",\n",
    "                             out=\"mm_individuals.pdf\")"
   ]
  },
  {
   "cell_type": "markdown",
   "metadata": {},
   "source": [
    "Plot individual mean\n",
    "\n",
    "mp_grid_on"
   ]
  },
  {
   "cell_type": "code",
   "execution_count": null,
   "metadata": {},
   "outputs": [],
   "source": [
    "frames = arange_frames(mean_dict[\"mp_grid_on\"][\"gru\"].shape[0])\n",
    "plot_sample_efficiency_curve(frames,\n",
    "                             raw_data_dict[\"mp_grid_on\"],\n",
    "                             colors=COLOR_MAPPING,\n",
    "                             label_mapping=LABEL_MAPPING,\n",
    "                             figsize=(8,7.5),\n",
    "                            #  xticks=list(range(0, 820, 100)),\n",
    "                             xlabel=\"Steps (in millions)\",\n",
    "                             ylabel=\"Success Rate\",\n",
    "                             marker=\"\")"
   ]
  },
  {
   "cell_type": "markdown",
   "metadata": {},
   "source": [
    "Plot individual mean\n",
    "\n",
    "mp_grid_off"
   ]
  },
  {
   "cell_type": "code",
   "execution_count": null,
   "metadata": {},
   "outputs": [],
   "source": [
    "frames = arange_frames(mean_dict[\"mp_grid_off\"][\"gru\"].shape[0])\n",
    "plot_sample_efficiency_curve(frames,\n",
    "                             raw_data_dict[\"mp_grid_off\"],\n",
    "                             colors=COLOR_MAPPING,\n",
    "                             label_mapping=LABEL_MAPPING,\n",
    "                             figsize=(8,7.5),\n",
    "                            #  xticks=list(range(0, 820, 100)),\n",
    "                             xlabel=\"Steps (in millions)\",\n",
    "                             ylabel=\"Success Rate\",\n",
    "                             marker=\"\")"
   ]
  },
  {
   "cell_type": "markdown",
   "metadata": {},
   "source": [
    "Plot individual mean\n",
    "\n",
    "mp_off_dense"
   ]
  },
  {
   "cell_type": "code",
   "execution_count": null,
   "metadata": {},
   "outputs": [],
   "source": [
    "frames = arange_frames(mean_dict[\"mp_off_dense\"][\"trxl\"].shape[0])\n",
    "plot_sample_efficiency_curve(frames,\n",
    "                             raw_data_dict[\"mp_off_dense\"],\n",
    "                             colors=COLOR_MAPPING,\n",
    "                             label_mapping=LABEL_MAPPING,\n",
    "                             figsize=(16.5,8),\n",
    "                             xticks=list(range(0, 420, 50)),\n",
    "                             yticks=list([0.2, 0.4, 0.6, 0.8, 1.0]),\n",
    "                             xlabel=\"Steps (in millions)\",\n",
    "                             ylabel=\"Task Progress\",\n",
    "                             marker=\"\",\n",
    "                             out=\"mp_individuals.pdf\")"
   ]
  },
  {
   "cell_type": "markdown",
   "metadata": {},
   "source": [
    "Plot individual mean\n",
    "\n",
    "ss"
   ]
  },
  {
   "cell_type": "code",
   "execution_count": null,
   "metadata": {},
   "outputs": [],
   "source": [
    "frames = arange_frames(mean_dict[\"ss\"][\"gru_rec_25\"].shape[0])\n",
    "plot_sample_efficiency_curve(frames,\n",
    "                             raw_data_dict[\"ss\"],\n",
    "                             algorithms=[\"gru_rec_25\", \"trxl_rec_25\", \"gru_25\", \"trxl_25\"],\n",
    "                             colors=COLOR_MAPPING,\n",
    "                             label_mapping=LABEL_MAPPING,\n",
    "                             figsize=(16.5,3.5),\n",
    "                             xticks=list(range(0, 420, 50)),\n",
    "                             yticks=list([0.0, 0.25, 0.5, 0.75, 1.0]),\n",
    "                             xlabel=\"Steps (in millions)\",\n",
    "                             ylabel=\"Task Progress\",\n",
    "                             marker=\"\",\n",
    "                             out=\"ss_individuals.pdf\")"
   ]
  },
  {
   "cell_type": "markdown",
   "metadata": {},
   "source": [
    "# Aggregation Plots"
   ]
  },
  {
   "cell_type": "code",
   "execution_count": 19,
   "metadata": {},
   "outputs": [],
   "source": [
    "# Select data for aggregation\n",
    "envs = [\"mm10\", \"mp_off_dense\", \"ss\"]\n",
    "run_ids = [\"gru\", \"trxl\", \"gru_rec\", \"trxl_rec\"]\n",
    "\n",
    "selected_data = {}\n",
    "for env in envs:\n",
    "    selected_data[env] = {}\n",
    "    for key in raw_data_dict[env].keys():\n",
    "        selected_data[env][key] = raw_data_dict[env][key]\n",
    "try:\n",
    "    selected_data[\"ss\"].pop(\"trxl\")\n",
    "except:\n",
    "    pass\n",
    "try:\n",
    "    selected_data[\"ss\"].pop(\"gru\")\n",
    "except:\n",
    "    pass\n",
    "try:\n",
    "    selected_data[\"ss\"].pop(\"gru_rec\")\n",
    "except:\n",
    "    pass\n",
    "try:\n",
    "    selected_data[\"ss\"].pop(\"trxl_rec\")\n",
    "except:\n",
    "    pass\n",
    "selected_data[\"ss\"][\"gru\"] = raw_data_dict[\"ss\"][\"gru_25\"]\n",
    "selected_data[\"ss\"][\"trxl\"] = raw_data_dict[\"ss\"][\"trxl_25\"]\n",
    "selected_data[\"ss\"][\"gru_rec\"] = raw_data_dict[\"ss\"][\"gru_rec_25\"]\n",
    "selected_data[\"ss\"][\"trxl_rec\"] = raw_data_dict[\"ss\"][\"trxl_rec_25\"]\n",
    "try:\n",
    "    selected_data[\"ss\"].pop(\"trxl_25\")\n",
    "except:\n",
    "    pass\n",
    "try:\n",
    "    selected_data[\"ss\"].pop(\"gru_25\")\n",
    "except:\n",
    "    pass\n",
    "try:\n",
    "    selected_data[\"ss\"].pop(\"gru_rec_25\")\n",
    "except:\n",
    "    pass\n",
    "try:\n",
    "    selected_data[\"ss\"].pop(\"trxl_rec_25\")\n",
    "except:\n",
    "    pass\n"
   ]
  },
  {
   "cell_type": "code",
   "execution_count": 20,
   "metadata": {},
   "outputs": [],
   "source": [
    "# Aggregate, compute mean and std\n",
    "agg_mean_dict = {}\n",
    "agg_std_dict = {}\n",
    "accumulated_data = {run_id: [] for run_id in run_ids}\n",
    "for env in envs:\n",
    "    for run_id in run_ids:\n",
    "        accumulated_data[run_id].append(selected_data[env][run_id][0:51])\n",
    "\n",
    "for run_id in run_ids:\n",
    "    stacked_data = np.hstack(accumulated_data[run_id])\n",
    "    agg_mean_dict[run_id] = stacked_data.mean(axis=1)\n",
    "    agg_std_dict[run_id] = stacked_data.std(axis=1)"
   ]
  },
  {
   "cell_type": "code",
   "execution_count": null,
   "metadata": {},
   "outputs": [],
   "source": [
    "frames = arange_frames(agg_mean_dict[\"gru_rec\"].shape[0])\n",
    "plot_sample_efficiency_curve(frames,\n",
    "                             agg_mean_dict,\n",
    "                             agg_std_dict,\n",
    "                             algorithms=[\"gru\", \"trxl\", \"gru_rec\", \"trxl_rec\"],\n",
    "                             colors=COLOR_MAPPING,\n",
    "                             label_mapping=LABEL_MAPPING,\n",
    "                             figsize=(16.5,3.5),\n",
    "                             xticks=list(range(0, 420, 50)),\n",
    "                             yticks=list([0.0, 0.25, 0.5, 0.75, 1.0]),\n",
    "                             xlabel=\"Steps (in millions)\",\n",
    "                             ylabel=\"Task Progress\",\n",
    "                             marker=\"\",\n",
    "                             out=\"aggregation_finite.pdf\")"
   ]
  }
 ],
 "metadata": {
  "kernelspec": {
   "display_name": "nero2",
   "language": "python",
   "name": "python3"
  },
  "language_info": {
   "codemirror_mode": {
    "name": "ipython",
    "version": 3
   },
   "file_extension": ".py",
   "mimetype": "text/x-python",
   "name": "python",
   "nbconvert_exporter": "python",
   "pygments_lexer": "ipython3",
   "version": "3.9.16"
  }
 },
 "nbformat": 4,
 "nbformat_minor": 2
}
