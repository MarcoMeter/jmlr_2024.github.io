{
 "cells": [
  {
   "cell_type": "markdown",
   "metadata": {},
   "source": [
    "Imports"
   ]
  },
  {
   "cell_type": "code",
   "execution_count": 2,
   "metadata": {},
   "outputs": [],
   "source": [
    "import numpy as np\n",
    "import os\n",
    "from plotting import plot_sample_efficiency_curve, COLOR_MAPPING, LABEL_MAPPING, load_and_process_experiment_data, arange_frames"
   ]
  },
  {
   "cell_type": "markdown",
   "metadata": {},
   "source": [
    "Load data"
   ]
  },
  {
   "cell_type": "code",
   "execution_count": null,
   "metadata": {},
   "outputs": [],
   "source": [
    "envs = [\n",
    "    \"emm\",\n",
    "]\n",
    "\n",
    "run_ids = [\n",
    "    \"gru_384\",\n",
    "    \"trxl\",\n",
    "    \"trxl_rec\",\n",
    "    \"trxl_lr\",\n",
    "    \"trxl_qpos\",\n",
    "    \"trxl_gt\",\n",
    "    \"trxl_gt_qpos_lr\",\n",
    "    \"trxl_lr_learned\",\n",
    "    \"trxl_lr_relative\"\n",
    "]\n",
    "\n",
    "skip = 1\n",
    "\n",
    "# Loop over all possible paths and load data\n",
    "raw_data_dict = {}\n",
    "for env in envs:\n",
    "    raw_data_dict[env] = {}\n",
    "    for run_id in run_ids:\n",
    "        path = f\"./results/{env}/{run_id}/\"\n",
    "        if os.path.exists(path) and os.path.isdir(path):\n",
    "            data = load_and_process_experiment_data(path, \"reward\")\n",
    "            # Average over the episodes dimension\n",
    "            data = data.mean(axis=2)\n",
    "\n",
    "            multiplier = 1\n",
    "            if env == \"emm\":\n",
    "                multiplier = 10\n",
    "            elif env == \"emp\":\n",
    "                multiplier = 1\n",
    "            elif env == \"ess\":\n",
    "                multiplier = 4\n",
    "\n",
    "            raw_data_dict[env][run_id] = data[::skip] * multiplier\n",
    "        else:\n",
    "            continue\n"
   ]
  },
  {
   "cell_type": "markdown",
   "metadata": {},
   "source": [
    "Process and aggregate data\n",
    "\n",
    "(101, 5, 150)\n",
    "\n",
    "101 Checkpoints\n",
    "5 Runs\n",
    "150 Episodes"
   ]
  },
  {
   "cell_type": "code",
   "execution_count": 9,
   "metadata": {},
   "outputs": [],
   "source": [
    "# Aggregate data\n",
    "mean_dict = {}\n",
    "std_dict = {}\n",
    "min_dict = {}\n",
    "max_dict = {}\n",
    "for env in raw_data_dict:\n",
    "    mean_dict[env] = {}\n",
    "    std_dict[env] = {}\n",
    "    min_dict[env] = {}\n",
    "    max_dict[env] = {}\n",
    "    for run_id in raw_data_dict[env]:\n",
    "        mean_dict[env][run_id] = raw_data_dict[env][run_id].mean(axis=1)\n",
    "        std_dict[env][run_id] = raw_data_dict[env][run_id].std(axis=1)\n",
    "        min_dict[env][run_id] = raw_data_dict[env][run_id].min(axis=1)\n",
    "        max_dict[env][run_id] = raw_data_dict[env][run_id].max(axis=1) \n",
    "\n",
    "# Setup frames\n",
    "frames = arange_frames(mean_dict[\"emm\"][\"gru_384\"].shape[0], skip)"
   ]
  },
  {
   "cell_type": "markdown",
   "metadata": {},
   "source": [
    "Plot mean and std across runs\n",
    "\n",
    "EMM"
   ]
  },
  {
   "cell_type": "code",
   "execution_count": null,
   "metadata": {},
   "outputs": [],
   "source": [
    "algos = [\n",
    "    \"gru_384\",\n",
    "    \"trxl\",\n",
    "    \"trxl_rec\",\n",
    "    \"trxl_lr\",\n",
    "    \"trxl_qpos\",\n",
    "    \"trxl_gt\",\n",
    "    \"trxl_gt_qpos_lr\"\n",
    "]\n",
    "\n",
    "plot_sample_efficiency_curve(frames,\n",
    "                             mean_dict[\"emm\"],\n",
    "                             std_dict[\"emm\"],\n",
    "                             algorithms=algos,\n",
    "                             colors=COLOR_MAPPING,\n",
    "                             label_mapping=LABEL_MAPPING,\n",
    "                             figsize=(16.5,4.5),\n",
    "                             xticks=list(range(0, 820, 100)),\n",
    "                             xlabel=\"Steps (in millions)\",\n",
    "                             ylabel=\"Commands Executed\",\n",
    "                             marker=\"\",\n",
    "                             out=\"fig8.pdf\")"
   ]
  },
  {
   "cell_type": "code",
   "execution_count": null,
   "metadata": {},
   "outputs": [],
   "source": [
    "algos = [\n",
    "    \"trxl\",\n",
    "    \"trxl_lr\",\n",
    "    \"trxl_lr_learned\",\n",
    "    \"trxl_lr_relative\"\n",
    "]\n",
    "\n",
    "plot_sample_efficiency_curve(frames,\n",
    "                             mean_dict[\"emm\"],\n",
    "                             std_dict[\"emm\"],\n",
    "                             algorithms=algos,\n",
    "                             colors=COLOR_MAPPING,\n",
    "                             label_mapping=LABEL_MAPPING,\n",
    "                             figsize=(16.5,4.5),\n",
    "                             xticks=list(range(0, 820, 100)),\n",
    "                             xlabel=\"Steps (in millions)\",\n",
    "                             ylabel=\"Commands Executed\",\n",
    "                             marker=\"\",\n",
    "                             out=\"fig9.pdf\")"
   ]
  },
  {
   "cell_type": "code",
   "execution_count": null,
   "metadata": {},
   "outputs": [],
   "source": [
    "algos = [\n",
    "    \"trxl\",\n",
    "    \"trxl_lr\",\n",
    "    \"trxl_lr_learned\",\n",
    "    \"trxl_lr_relative\"\n",
    "]\n",
    "\n",
    "plot_sample_efficiency_curve(frames,\n",
    "                             raw_data_dict[\"emm\"],\n",
    "                             algorithms=algos,\n",
    "                             colors=COLOR_MAPPING,\n",
    "                             label_mapping=LABEL_MAPPING,\n",
    "                             figsize=(16.5,4.5),\n",
    "                             xticks=list(range(0, 820, 100)),\n",
    "                             xlabel=\"Steps (in millions)\",\n",
    "                             ylabel=\"Commands Executed\",\n",
    "                             marker=\"\")"
   ]
  }
 ],
 "metadata": {
  "kernelspec": {
   "display_name": "nero2",
   "language": "python",
   "name": "python3"
  },
  "language_info": {
   "codemirror_mode": {
    "name": "ipython",
    "version": 3
   },
   "file_extension": ".py",
   "mimetype": "text/x-python",
   "name": "python",
   "nbconvert_exporter": "python",
   "pygments_lexer": "ipython3",
   "version": "3.9.16"
  }
 },
 "nbformat": 4,
 "nbformat_minor": 2
}
