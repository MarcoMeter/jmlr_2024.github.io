{
 "cells": [
  {
   "cell_type": "markdown",
   "metadata": {},
   "source": [
    "Imports"
   ]
  },
  {
   "cell_type": "code",
   "execution_count": 1,
   "metadata": {},
   "outputs": [],
   "source": [
    "import numpy as np\n",
    "import os\n",
    "from plotting import plot_sample_efficiency_curve, COLOR_MAPPING, LABEL_MAPPING, load_and_process_experiment_data, arange_frames"
   ]
  },
  {
   "cell_type": "markdown",
   "metadata": {},
   "source": [
    "Load data"
   ]
  },
  {
   "cell_type": "code",
   "execution_count": null,
   "metadata": {},
   "outputs": [],
   "source": [
    "envs = [\n",
    "    \"mm_act_grid\",\n",
    "    \"mm_grid\",\n",
    "    \"mp_grid_on\",\n",
    "    \"mp_grid_off\",\n",
    "    \"ss\"\n",
    "]\n",
    "\n",
    "run_ids = [\n",
    "    \"gru\",\n",
    "    \"trxl\",\n",
    "    \"gru_rec\",\n",
    "    \"trxl_rec\",\n",
    "    \"gru_25\",\n",
    "    \"trxl_25\",\n",
    "    \"gru_rec_25\",\n",
    "    \"trxl_rec_25\",\n",
    "    \"4stack\",\n",
    "    \"16stack\",\n",
    "    \"pos_enc\",\n",
    "    \"ppo\"\n",
    "]\n",
    "\n",
    "skip = 1\n",
    "\n",
    "# Loop over all possible paths and load data\n",
    "raw_data_dict = {}\n",
    "for env in envs:\n",
    "    raw_data_dict[env] = {}\n",
    "    for run_id in run_ids:\n",
    "        path = f\"./results/{env}/{run_id}/\"\n",
    "        if os.path.exists(path) and os.path.isdir(path):\n",
    "            data = load_and_process_experiment_data(path, \"reward\")\n",
    "\n",
    "            if \"ss\" in env:\n",
    "                data[data == 0.25] = 0.5\n",
    "                data[data == 1.25] = 1.0\n",
    "\n",
    "            # Average over the episodes dimension\n",
    "            data = data.mean(axis=2)\n",
    "            multiplier = 1\n",
    "\n",
    "            raw_data_dict[env][run_id] = data[::skip] * multiplier\n",
    "        else:\n",
    "            continue\n"
   ]
  },
  {
   "cell_type": "markdown",
   "metadata": {},
   "source": [
    "Process and aggregate data\n",
    "\n",
    "(101, 5, 150)\n",
    "\n",
    "101 Checkpoints\n",
    "5 Runs\n",
    "150 Episodes"
   ]
  },
  {
   "cell_type": "code",
   "execution_count": 3,
   "metadata": {},
   "outputs": [],
   "source": [
    "# Aggregate data\n",
    "mean_dict = {}\n",
    "std_dict = {}\n",
    "min_dict = {}\n",
    "max_dict = {}\n",
    "for env in raw_data_dict:\n",
    "    mean_dict[env] = {}\n",
    "    std_dict[env] = {}\n",
    "    min_dict[env] = {}\n",
    "    max_dict[env] = {}\n",
    "    for run_id in raw_data_dict[env]:\n",
    "        mean_dict[env][run_id] = raw_data_dict[env][run_id].mean(axis=1)\n",
    "        std_dict[env][run_id] = raw_data_dict[env][run_id].std(axis=1)\n",
    "        min_dict[env][run_id] = raw_data_dict[env][run_id].min(axis=1)\n",
    "        max_dict[env][run_id] = raw_data_dict[env][run_id].max(axis=1) "
   ]
  },
  {
   "cell_type": "markdown",
   "metadata": {},
   "source": [
    "Plot mean and std across runs\n",
    "\n",
    "mm_act_grid"
   ]
  },
  {
   "cell_type": "code",
   "execution_count": null,
   "metadata": {},
   "outputs": [],
   "source": [
    "frames = arange_frames(mean_dict[\"mm_act_grid\"][\"gru\"].shape[0])\n",
    "algos = [\"ppo\", \"pos_enc\", \"4stack\", \"16stack\", \"gru\", \"trxl\"]\n",
    "plot_sample_efficiency_curve(frames,\n",
    "                             mean_dict[\"mm_act_grid\"],\n",
    "                             std_dict[\"mm_act_grid\"],\n",
    "                             algorithms=algos,\n",
    "                             colors=COLOR_MAPPING,\n",
    "                             label_mapping=LABEL_MAPPING,\n",
    "                             figsize=(8,7.5),\n",
    "                             xlabel=\"Steps (in millions)\",\n",
    "                             ylabel=\"Task Progress\",\n",
    "                             marker=\"\",\n",
    "                             labelsize=32,\n",
    "                             ticklabelsize=32,\n",
    "                             spinewidth=2,\n",
    "                             out=\"fig10_mm_act_grid.pdf\")"
   ]
  },
  {
   "cell_type": "markdown",
   "metadata": {},
   "source": [
    "Plot mean and std across runs\n",
    "\n",
    "mm_grid"
   ]
  },
  {
   "cell_type": "code",
   "execution_count": null,
   "metadata": {},
   "outputs": [],
   "source": [
    "frames = arange_frames(mean_dict[\"mm_grid\"][\"gru\"].shape[0])\n",
    "algos = [\"ppo\", \"pos_enc\", \"4stack\", \"16stack\", \"gru\", \"trxl\"]\n",
    "plot_sample_efficiency_curve(frames,\n",
    "                             mean_dict[\"mm_grid\"],\n",
    "                             std_dict[\"mm_grid\"],\n",
    "                             algorithms=algos,\n",
    "                             colors=COLOR_MAPPING,\n",
    "                             label_mapping=LABEL_MAPPING,\n",
    "                             figsize=(8,7.5),\n",
    "                             xlabel=\"Steps (in millions)\",\n",
    "                             ylabel=\"Task Progress\",\n",
    "                             marker=\"\",\n",
    "                             labelsize=32,\n",
    "                             ticklabelsize=32,\n",
    "                             spinewidth=2,\n",
    "                             out=\"fig10_mm_grid.pdf\")"
   ]
  },
  {
   "cell_type": "markdown",
   "metadata": {},
   "source": [
    "Plot mean and std across runs\n",
    "\n",
    "mp_grid_on"
   ]
  },
  {
   "cell_type": "code",
   "execution_count": null,
   "metadata": {},
   "outputs": [],
   "source": [
    "frames = arange_frames(mean_dict[\"mp_grid_on\"][\"gru\"].shape[0])\n",
    "algos = [\"ppo\", \"pos_enc\", \"4stack\", \"16stack\", \"gru\", \"trxl\"]\n",
    "plot_sample_efficiency_curve(frames,\n",
    "                             mean_dict[\"mp_grid_on\"],\n",
    "                             std_dict[\"mp_grid_on\"],\n",
    "                             algorithms=algos,\n",
    "                             colors=COLOR_MAPPING,\n",
    "                             label_mapping=LABEL_MAPPING,\n",
    "                             figsize=(8,7.5),\n",
    "                            #  xticks=list(range(0, 820, 100)),\n",
    "                             xlabel=\"Steps (in millions)\",\n",
    "                             ylabel=\"Success Rate\",\n",
    "                             marker=\"\",\n",
    "                             labelsize=32,\n",
    "                             ticklabelsize=32,\n",
    "                             spinewidth=2,\n",
    "                             out=\"fig10_mp_grid_on.pdf\")"
   ]
  },
  {
   "cell_type": "markdown",
   "metadata": {},
   "source": [
    "Plot mean and std across runs\n",
    "\n",
    "mp_grid_off"
   ]
  },
  {
   "cell_type": "code",
   "execution_count": null,
   "metadata": {},
   "outputs": [],
   "source": [
    "frames = arange_frames(mean_dict[\"mp_grid_off\"][\"gru\"].shape[0])\n",
    "algos = [\"ppo\", \"pos_enc\", \"4stack\", \"16stack\", \"gru\", \"trxl\"]\n",
    "plot_sample_efficiency_curve(frames,\n",
    "                             mean_dict[\"mp_grid_off\"],\n",
    "                             std_dict[\"mp_grid_off\"],\n",
    "                             algorithms=algos,\n",
    "                             colors=COLOR_MAPPING,\n",
    "                             label_mapping=LABEL_MAPPING,\n",
    "                             figsize=(8,7.5),\n",
    "                             xlabel=\"Steps (in millions)\",\n",
    "                             ylabel=\"Success Rate\",\n",
    "                             marker=\"\",\n",
    "                             labelsize=32,\n",
    "                             ticklabelsize=32,\n",
    "                             spinewidth=2,\n",
    "                             out=\"fig10_mp_grid_off.pdf\")"
   ]
  },
  {
   "cell_type": "markdown",
   "metadata": {},
   "source": [
    "Plot mean and std across runs\n",
    "\n",
    "ss"
   ]
  },
  {
   "cell_type": "code",
   "execution_count": null,
   "metadata": {},
   "outputs": [],
   "source": [
    "frames = arange_frames(mean_dict[\"ss\"][\"gru_rec_25\"].shape[0])\n",
    "algos = [\"ppo\", \"pos_enc\", \"4stack\", \"16stack\", \"gru_rec_25\", \"trxl_rec_25\", \"gru_25\", \"trxl_25\"]\n",
    "plot_sample_efficiency_curve(frames,\n",
    "                             mean_dict[\"ss\"],\n",
    "                             std_dict[\"ss\"],\n",
    "                             algorithms=algos,\n",
    "                             colors=COLOR_MAPPING,\n",
    "                             label_mapping=LABEL_MAPPING,\n",
    "                             figsize=(8,7.5),\n",
    "                             xlabel=\"Steps (in millions)\",\n",
    "                             ylabel=\"Success Rate\",\n",
    "                             marker=\"\",\n",
    "                             labelsize=32,\n",
    "                             ticklabelsize=32,\n",
    "                             spinewidth=2,\n",
    "                             out=\"fig10_ss.pdf\")"
   ]
  }
 ],
 "metadata": {
  "kernelspec": {
   "display_name": "nero2",
   "language": "python",
   "name": "python3"
  },
  "language_info": {
   "codemirror_mode": {
    "name": "ipython",
    "version": 3
   },
   "file_extension": ".py",
   "mimetype": "text/x-python",
   "name": "python",
   "nbconvert_exporter": "python",
   "pygments_lexer": "ipython3",
   "version": "3.9.16"
  }
 },
 "nbformat": 4,
 "nbformat_minor": 2
}
